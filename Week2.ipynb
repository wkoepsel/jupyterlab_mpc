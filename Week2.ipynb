{
 "cells": [
  {
   "cell_type": "markdown",
   "id": "b143d9dd-1edf-4723-b2dc-aa485628aa04",
   "metadata": {},
   "source": [
    "# Week 2: Simple Introductory Python Program in JupyterLab"
   ]
  },
  {
   "cell_type": "markdown",
   "id": "cce6e877-923d-48e9-8e2d-a5cb0a5a9c93",
   "metadata": {},
   "source": [
    "Let's start with some simple markdown text:\n",
    "* A bullet\n",
    "* Another bullet\n",
    "* A third bullet"
   ]
  },
  {
   "cell_type": "markdown",
   "id": "00f8b992-d801-4586-9e8c-3dae6fb21f2a",
   "metadata": {},
   "source": [
    "## A numbered list of things to do:\n",
    "1. Write a print statement to display a title.\n",
    "2. Write an input statement to request data.\n",
    "3. Write a print statement which uses the data"
   ]
  },
  {
   "cell_type": "code",
   "execution_count": 1,
   "id": "70c6b325-7d73-4095-ba0f-04c9c2ae823a",
   "metadata": {},
   "outputs": [
    {
     "name": "stdout",
     "output_type": "stream",
     "text": [
      "My First program\n"
     ]
    },
    {
     "name": "stdin",
     "output_type": "stream",
     "text": [
      "What is your name? Lief\n"
     ]
    },
    {
     "name": "stdout",
     "output_type": "stream",
     "text": [
      "Hi Lief, it is so nice to meet you!\n"
     ]
    }
   ],
   "source": [
    "print(\"My First program\")\n",
    "name = input(\"What is your name?\")\n",
    "print(f\"Hi {name}, it is so nice to meet you!\")"
   ]
  },
  {
   "cell_type": "markdown",
   "id": "27d2bb03-91f4-42f7-a8c8-80dd86d2bc2a",
   "metadata": {},
   "source": [
    "## Using f-strings in Python\n",
    "Recently (Python 3.6), Python introduced a concept called f-strings, to simplify formatted printing. As you can see from the example above, an f-string begins with an f, followed by a string, hence the name. Variables are contained in \"{}\", in the string itself. And you don't have to use the word, \"print\", you may just use f\"\" as in:"
   ]
  },
  {
   "cell_type": "code",
   "execution_count": 2,
   "id": "51c5c1e1-1a3a-49ba-b407-7673da6df04d",
   "metadata": {},
   "outputs": [
    {
     "data": {
      "text/plain": [
       "'This is an f-string, Lief'"
      ]
     },
     "execution_count": 2,
     "metadata": {},
     "output_type": "execute_result"
    }
   ],
   "source": [
    "f\"This is an f-string, {name}\""
   ]
  },
  {
   "cell_type": "markdown",
   "id": "ec0058b5-abbb-4897-ab29-340f5d262249",
   "metadata": {},
   "source": [
    "### Formatting using f-strings\n",
    "Formatting may also be performed Python's formatting specification found [here](https://docs.python.org/3/library/string.html#format-specification-mini-language). It can be a bit complicated, so I encourage you to review the examples."
   ]
  },
  {
   "cell_type": "markdown",
   "id": "f0b4d1f9-f026-4933-8861-03db02d9debc",
   "metadata": {},
   "source": [
    "## Assignment\n",
    "Using the information above, along with what you have learned from Part 1 of \"*Learn Python...*\", write some addition cells which use both *Markdown* text for formatting and *Python* for programming.\n",
    "\n",
    "### Examples:\n",
    "* A program which asks what the weather is like, and do you like it?\n",
    "* A program which asks for the major ingredients of a receipe you like.\n",
    "* Examples from page 22 of the book \"*Learn Python...*\""
   ]
  },
  {
   "cell_type": "markdown",
   "id": "5a8a3da6-f3da-480f-8e5e-b134f3a0ad2f",
   "metadata": {},
   "source": [
    "## This is a new set of examples"
   ]
  },
  {
   "cell_type": "code",
   "execution_count": null,
   "id": "b3256a90-202d-4920-b0b7-9baa8024c877",
   "metadata": {},
   "outputs": [],
   "source": []
  }
 ],
 "metadata": {
  "kernelspec": {
   "display_name": "Python 3 (ipykernel)",
   "language": "python",
   "name": "python3"
  },
  "language_info": {
   "codemirror_mode": {
    "name": "ipython",
    "version": 3
   },
   "file_extension": ".py",
   "mimetype": "text/x-python",
   "name": "python",
   "nbconvert_exporter": "python",
   "pygments_lexer": "ipython3",
   "version": "3.8.16"
  }
 },
 "nbformat": 4,
 "nbformat_minor": 5
}
